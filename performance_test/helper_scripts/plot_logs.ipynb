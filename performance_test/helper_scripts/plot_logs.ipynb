{
 "cells": [
  {
   "cell_type": "code",
   "execution_count": null,
   "metadata": {
    "scrolled": false
   },
   "outputs": [],
   "source": [
    "import glob\n",
    "import itertools\n",
    "from ipywidgets import widgets, Layout\n",
    "import numpy as np\n",
    "import os\n",
    "import pandas as pd\n",
    "import plotly.io as pio\n",
    "import plotly.graph_objects as go\n",
    "\n",
    "from apex_performance_plotter.apex_performance_plotter.load_logfiles import load_logfiles\n",
    "\n",
    "pio.templates.default = \"plotly_white\"\n",
    "from IPython.core.interactiveshell import InteractiveShell"
   ]
  },
  {
   "cell_type": "code",
   "execution_count": null,
   "metadata": {},
   "outputs": [],
   "source": [
    "# Define the folders where to look for experiment outputs\n",
    "os.chdir('../experiment')\n",
    "logfiles = glob.glob('{}*'.format('log'))\n",
    "selected_logfiles =  widgets.SelectMultiple(\n",
    "    options=logfiles,\n",
    "    description='Experiments',\n",
    "    disabled=False,\n",
    "    layout=Layout(width='100%')\n",
    ")\n",
    "display(selected_logfiles)\n",
    "\n",
    "# Select the experiments to plot"
   ]
  },
  {
   "cell_type": "code",
   "execution_count": null,
   "metadata": {},
   "outputs": [],
   "source": [
    "# Display selected experiment properties\n",
    "InteractiveShell.ast_node_interactivity = \"all\"\n",
    "\n",
    "headers, dataframes = load_logfiles(selected_logfiles)\n",
    "\n",
    "for idx, header in enumerate(headers):\n",
    "    display(header)\n",
    "    \n",
    "InteractiveShell.ast_node_interactivity = \"last\""
   ]
  },
  {
   "cell_type": "code",
   "execution_count": null,
   "metadata": {},
   "outputs": [],
   "source": [
    "colors = ['#4363d8','#800000','#f58231','#e6beff']\n",
    "\n",
    "# Plot latencies\n",
    "figure_latencies = go.FigureWidget()\n",
    "figure_latencies.layout.xaxis.title = 'Time (s)'\n",
    "figure_latencies.layout.yaxis.title = 'Latencies (ms)'\n",
    "\n",
    "for idx, experiment in enumerate(dataframes):\n",
    "\n",
    "    figure_latencies.add_scatter(x=experiment['T_experiment'],\n",
    "                                 y=experiment['latency_max (ms)'],\n",
    "                                 mode='markers', marker_color=colors[idx],\n",
    "                                 marker_symbol='x',\n",
    "                                 name= 'latency_max',\n",
    "                                 text=headers[idx]['Logfile name']);\n",
    "    figure_latencies.add_scatter(x=experiment['T_experiment'],\n",
    "                                 y=experiment['latency_mean (ms)'],\n",
    "                                 mode='markers', marker_color=colors[idx],\n",
    "                                 marker_symbol='triangle-up',\n",
    "                                 name='latency_mean',\n",
    "                                 text=headers[idx]['Logfile name']);\n",
    "    figure_latencies.add_scatter(x=experiment['T_experiment'],\n",
    "                                 y=experiment['latency_min (ms)'],\n",
    "                                 mode='markers', marker_color=colors[idx],\n",
    "                                 name='latency_min',\n",
    "                                 text=headers[idx]['Logfile name'])\n",
    "\n",
    "figure_latencies"
   ]
  },
  {
   "cell_type": "code",
   "execution_count": null,
   "metadata": {},
   "outputs": [],
   "source": [
    "# Plot CPU usage\n",
    "figure_cpu_usage = go.FigureWidget()\n",
    "figure_cpu_usage.layout.xaxis.title = 'Time (s)'\n",
    "figure_cpu_usage.layout.yaxis.title = 'CPU usage (%)'\n",
    "\n",
    "for idx, experiment in enumerate(dataframes):\n",
    "\n",
    "    figure_cpu_usage.add_scatter(x=experiment['T_experiment'],\n",
    "                                 y=experiment['cpu_usage (%)'],\n",
    "                                 mode='markers', marker_color=colors[idx],\n",
    "                                 marker_symbol='x',\n",
    "                                 name= 'cpu_usage',\n",
    "                                 text=headers[idx]['Logfile name']);\n",
    "\n",
    "figure_cpu_usage"
   ]
  },
  {
   "cell_type": "code",
   "execution_count": null,
   "metadata": {},
   "outputs": [],
   "source": [
    "# Plot memory consumption\n",
    "figure_memory_usage = go.FigureWidget()\n",
    "figure_memory_usage.layout.xaxis.title = 'Time (s)'\n",
    "figure_memory_usage.layout.yaxis.title = 'Memory consumption (MB)'\n",
    "\n",
    "for idx, experiment in enumerate(dataframes):\n",
    "\n",
    "    figure_memory_usage.add_scatter(x=experiment['T_experiment'],\n",
    "                                    y=experiment['ru_maxrss']/1024,\n",
    "                                    mode='markers', marker_color=colors[idx],\n",
    "                                    marker_symbol='x',\n",
    "                                    name= 'ru_maxrss',\n",
    "                                    text=headers[idx]['Logfile name']);\n",
    "\n",
    "figure_memory_usage"
   ]
  },
  {
   "cell_type": "code",
   "execution_count": null,
   "metadata": {},
   "outputs": [],
   "source": []
  }
 ],
 "metadata": {
  "kernelspec": {
   "display_name": "performance_test_plotter_env",
   "language": "python",
   "name": "performance_test_plotter_env"
  },
  "language_info": {
   "codemirror_mode": {
    "name": "ipython",
    "version": 3
   },
   "file_extension": ".py",
   "mimetype": "text/x-python",
   "name": "python",
   "nbconvert_exporter": "python",
   "pygments_lexer": "ipython3",
   "version": "3.6.9"
  }
 },
 "nbformat": 4,
 "nbformat_minor": 4
}
